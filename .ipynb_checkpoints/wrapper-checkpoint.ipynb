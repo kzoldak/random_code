{
 "cells": [
  {
   "cell_type": "code",
   "execution_count": null,
   "metadata": {},
   "outputs": [],
   "source": [
    "m = sys.modules['pandas.tools.plotting']\n",
    "for t in [t for t in dir(_plotting) if not t.startswith('_')]:\n",
    "\n",
    "    def outer(t=t):\n",
    "\n",
    "        def wrapper(*args, **kwargs):\n",
    "            warnings.warn(\"'pandas.tools.plotting.{t}' is deprecated, \"\n",
    "                          \"import 'pandas.plotting.{t}' instead.\".format(t=t),\n",
    "                          FutureWarning, stacklevel=2)\n",
    "            return getattr(_plotting, t)(*args, **kwargs)\n",
    "        return wrapper\n",
    "\n",
    "    setattr(m, t, outer(t))"
   ]
  },
  {
   "cell_type": "code",
   "execution_count": null,
   "metadata": {},
   "outputs": [],
   "source": []
  }
 ],
 "metadata": {
  "kernelspec": {
   "display_name": "Python 3",
   "language": "python",
   "name": "python3"
  },
  "language_info": {
   "codemirror_mode": {
    "name": "ipython",
    "version": 3
   },
   "file_extension": ".py",
   "mimetype": "text/x-python",
   "name": "python",
   "nbconvert_exporter": "python",
   "pygments_lexer": "ipython3",
   "version": "3.7.0"
  }
 },
 "nbformat": 4,
 "nbformat_minor": 2
}
