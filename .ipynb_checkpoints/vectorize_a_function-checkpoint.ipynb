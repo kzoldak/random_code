{
 "cells": [
  {
   "cell_type": "markdown",
   "metadata": {},
   "source": [
    "## Vectorizing a function\n",
    "\n",
    "The idea behind vectorizing a function is to make it possible to pass a list or array (vector) of values to a function in a *single function call* and have it return a vector with the values of the calculation performed within that function. "
   ]
  },
  {
   "cell_type": "code",
   "execution_count": 1,
   "metadata": {},
   "outputs": [],
   "source": [
    "import numpy as np"
   ]
  },
  {
   "cell_type": "code",
   "execution_count": 2,
   "metadata": {},
   "outputs": [
    {
     "data": {
      "text/plain": [
       "array([0.  , 0.25, 0.5 , 0.75, 1.  ])"
      ]
     },
     "execution_count": 2,
     "metadata": {},
     "output_type": "execute_result"
    }
   ],
   "source": [
    "xarr = np.linspace(0,1,5); xarr"
   ]
  },
  {
   "cell_type": "code",
   "execution_count": 3,
   "metadata": {},
   "outputs": [],
   "source": [
    "def CosFunc(x):\n",
    "    if x < 0:\n",
    "        return 0\n",
    "    else:\n",
    "        return np.cos(x)"
   ]
  },
  {
   "cell_type": "markdown",
   "metadata": {},
   "source": [
    "Trying `CosFunc(xarr)` will return:\n",
    "\n",
    "    ValueError: The truth value of an array with more than one element is ambiguous. Use a.any() or a.all()\n",
    "    \n",
    "because it is only meant to take in one value at a time. So, to use this function, we could pass data in a for loop:"
   ]
  },
  {
   "cell_type": "code",
   "execution_count": 4,
   "metadata": {},
   "outputs": [
    {
     "name": "stdout",
     "output_type": "stream",
     "text": [
      "[1.0, 0.9689124217106447, 0.8775825618903728, 0.7316888688738209, 0.5403023058681398]\n"
     ]
    }
   ],
   "source": [
    "result = []\n",
    "for x in xarr:\n",
    "    result.append(CosFunc(x))\n",
    "print(result)"
   ]
  },
  {
   "cell_type": "markdown",
   "metadata": {},
   "source": [
    "But I LOVE list comprehensions, sooooo...."
   ]
  },
  {
   "cell_type": "code",
   "execution_count": 5,
   "metadata": {},
   "outputs": [
    {
     "name": "stdout",
     "output_type": "stream",
     "text": [
      "[1.0, 0.9689124217106447, 0.8775825618903728, 0.7316888688738209, 0.5403023058681398]\n"
     ]
    }
   ],
   "source": [
    "result = []\n",
    "[result.append( CosFunc(x) ) for x in xarr]\n",
    "print(result)"
   ]
  },
  {
   "cell_type": "markdown",
   "metadata": {},
   "source": [
    "   "
   ]
  },
  {
   "cell_type": "markdown",
   "metadata": {},
   "source": [
    "   "
   ]
  },
  {
   "cell_type": "markdown",
   "metadata": {},
   "source": [
    "To truly allow a list of values to be passed in one single function call, you can use `numpy.vectorize`"
   ]
  },
  {
   "cell_type": "code",
   "execution_count": 6,
   "metadata": {},
   "outputs": [],
   "source": [
    "CosFunc_v = np.vectorize(CosFunc)"
   ]
  },
  {
   "cell_type": "code",
   "execution_count": 7,
   "metadata": {},
   "outputs": [
    {
     "data": {
      "text/plain": [
       "array([1.        , 0.96891242, 0.87758256, 0.73168887, 0.54030231])"
      ]
     },
     "execution_count": 7,
     "metadata": {},
     "output_type": "execute_result"
    }
   ],
   "source": [
    "CosFunc_v(xarr)"
   ]
  },
  {
   "cell_type": "markdown",
   "metadata": {},
   "source": [
    "Here is part of its Documentation.\n",
    "\n",
    "\n",
    "?np.vectorize\n",
    "```\n",
    "\n",
    "\n",
    "Init signature: np.vectorize(pyfunc, otypes=None, doc=None, \n",
    "                        excluded=None, cache=False, signature=None)\n",
    "Docstring:     \n",
    "vectorize(pyfunc, otypes=None, doc=None, excluded=None, cache=False,\n",
    "          signature=None)\n",
    "\n",
    "Generalized function class.\n",
    "\n",
    "Define a vectorized function which takes a nested sequence of objects or\n",
    "numpy arrays as inputs and returns an single or tuple of numpy array as\n",
    "output. The vectorized function evaluates `pyfunc` over successive tuples\n",
    "of the input arrays like the python map function, except it uses the\n",
    "broadcasting rules of numpy.\n",
    "\n",
    "The data type of the output of `vectorized` is determined by calling\n",
    "the function with the first element of the input.  This can be avoided\n",
    "by specifying the `otypes` argument.\n",
    "```"
   ]
  },
  {
   "cell_type": "code",
   "execution_count": 8,
   "metadata": {},
   "outputs": [
    {
     "data": {
      "text/plain": [
       "array([b'1.0', b'0.9689124217106447', b'0.8775825618903728',\n",
       "       b'0.7316888688738209', b'0.5403023058681398'], dtype='|S18')"
      ]
     },
     "execution_count": 8,
     "metadata": {},
     "output_type": "execute_result"
    }
   ],
   "source": [
    "# vectorize, but convert output to string format\n",
    "CosFunc_v2 = np.vectorize(CosFunc, otypes='S')\n",
    "\n",
    "CosFunc_v2(xarr)"
   ]
  },
  {
   "cell_type": "markdown",
   "metadata": {},
   "source": [
    "Assign these new functions a name. "
   ]
  },
  {
   "cell_type": "code",
   "execution_count": 9,
   "metadata": {},
   "outputs": [],
   "source": [
    "CosFunc_v.__name__ = \"vectorize(CosFunc)\""
   ]
  },
  {
   "cell_type": "code",
   "execution_count": 10,
   "metadata": {},
   "outputs": [],
   "source": [
    "CosFunc_v2.__name__ = \"vectorize(CosFunc, otypes='S')\""
   ]
  },
  {
   "cell_type": "code",
   "execution_count": 11,
   "metadata": {},
   "outputs": [
    {
     "data": {
      "text/plain": [
       "('CosFunc', 'vectorize(CosFunc)', \"vectorize(CosFunc, otypes='S')\")"
      ]
     },
     "execution_count": 11,
     "metadata": {},
     "output_type": "execute_result"
    }
   ],
   "source": [
    "CosFunc.__name__, CosFunc_v.__name__, CosFunc_v2.__name__"
   ]
  },
  {
   "cell_type": "markdown",
   "metadata": {},
   "source": [
    "   "
   ]
  },
  {
   "cell_type": "markdown",
   "metadata": {},
   "source": [
    "   "
   ]
  },
  {
   "cell_type": "markdown",
   "metadata": {},
   "source": [
    "\n",
    "\n",
    "\n",
    "\n",
    "\n",
    "\n",
    "\n"
   ]
  },
  {
   "cell_type": "markdown",
   "metadata": {},
   "source": [
    "### Another function example, with 2 possible outputs based on the inputs."
   ]
  },
  {
   "cell_type": "code",
   "execution_count": 12,
   "metadata": {},
   "outputs": [],
   "source": [
    "def Cos_or_Sin(x):\n",
    "    if x<1:\n",
    "        x = np.cos(x)\n",
    "    else:\n",
    "        x = np.sin(x)\n",
    "    return x"
   ]
  },
  {
   "cell_type": "markdown",
   "metadata": {},
   "source": [
    "Calling `Cos_or_Sin(xarr)`\n",
    "returns \n",
    "\n",
    "\n",
    "    ValueError: The truth value of an array with more than one element is ambiguous. Use a.any() or a.all()\n",
    "\n",
    "\n",
    "\n",
    "\n",
    "<br>\n",
    "<br>\n",
    "<br>\n",
    "<br>\n",
    "\n",
    "Use `numpy.where`\n",
    "\n",
    "\n",
    "How does this function work?\n",
    "\n",
    "`np.where(x<1, A, B)`\n",
    "\n",
    "If `x<1`, return condition `A`, else return condition `B`"
   ]
  },
  {
   "cell_type": "code",
   "execution_count": 13,
   "metadata": {},
   "outputs": [],
   "source": [
    "def Cos_or_Sin(x):\n",
    "    A = np.cos(x)\n",
    "    B = np.sin(x)\n",
    "    return np.where(x<1, A, B) "
   ]
  },
  {
   "cell_type": "code",
   "execution_count": 14,
   "metadata": {},
   "outputs": [
    {
     "data": {
      "text/plain": [
       "array([1.        , 0.96891242, 0.87758256, 0.73168887, 0.84147098])"
      ]
     },
     "execution_count": 14,
     "metadata": {},
     "output_type": "execute_result"
    }
   ],
   "source": [
    "Cos_or_Sin(xarr)"
   ]
  },
  {
   "cell_type": "markdown",
   "metadata": {},
   "source": [
    "Instead of using `numpy.vectorize`, we used `numpy.where` this time and we achieved the same ability to pass a full vector to a function in one call."
   ]
  },
  {
   "cell_type": "markdown",
   "metadata": {},
   "source": [
    "?np.where\n",
    "\n",
    "```\n",
    "\n",
    "\n",
    "Docstring:\n",
    "where(condition, [x, y])\n",
    "\n",
    "Return elements, either from `x` or `y`, depending on `condition`.\n",
    "\n",
    "If only `condition` is given, return ``condition.nonzero()``.\n",
    "\n",
    "Parameters\n",
    "----------\n",
    "condition : array_like, bool\n",
    "    When True, yield `x`, otherwise yield `y`.\n",
    "x, y : array_like, optional\n",
    "    Values from which to choose. `x`, `y` and `condition` need to be\n",
    "    broadcastable to some shape.\n",
    "\n",
    "Returns\n",
    "-------\n",
    "out : ndarray or tuple of ndarrays\n",
    "    If both `x` and `y` are specified, the output array contains\n",
    "    elements of `x` where `condition` is True, and elements from\n",
    "    `y` elsewhere.\n",
    "\n",
    "    If only `condition` is given, return the tuple\n",
    "    ``condition.nonzero()``, the indices where `condition` is True.\n",
    "\n",
    "See Also\n",
    "--------\n",
    "nonzero, choose\n",
    "\n",
    "Notes\n",
    "-----\n",
    "If `x` and `y` are given and input arrays are 1-D, `where` is\n",
    "equivalent to::\n",
    "\n",
    "    [xv if c else yv for (c,xv,yv) in zip(condition,x,y)]\n",
    "    \n",
    "```"
   ]
  },
  {
   "cell_type": "markdown",
   "metadata": {},
   "source": [
    "   "
   ]
  },
  {
   "cell_type": "markdown",
   "metadata": {},
   "source": [
    "   "
   ]
  },
  {
   "cell_type": "markdown",
   "metadata": {},
   "source": [
    "### Another example, values passed to Logarithms can not be negative."
   ]
  },
  {
   "cell_type": "code",
   "execution_count": 15,
   "metadata": {},
   "outputs": [
    {
     "name": "stderr",
     "output_type": "stream",
     "text": [
      "/Users/kimzoldak/anaconda3/lib/python3.7/site-packages/ipykernel_launcher.py:2: RuntimeWarning: invalid value encountered in log\n",
      "  \n"
     ]
    },
    {
     "data": {
      "text/plain": [
       "array([ 0.        ,  0.        ,  0.        ,  0.        ,  0.        ,\n",
       "       -2.19722458, -1.09861229, -0.58778666, -0.25131443,  0.        ])"
      ]
     },
     "execution_count": 15,
     "metadata": {},
     "output_type": "execute_result"
    }
   ],
   "source": [
    "def logpos(x):\n",
    "    return np.where(x<0, 0.0, np.log(x))\n",
    "\n",
    "xarr = np.linspace(-1, 1, 10); xarr\n",
    "logpos(xarr)"
   ]
  },
  {
   "cell_type": "markdown",
   "metadata": {},
   "source": [
    "Notice the    \n",
    "    \n",
    "    RuntimeWarning: invalid value encountered in log\n",
    "    \n",
    "This can be avoided by replacing the negative numbers in the input array with ones.\n",
    "\n",
    "log(1) = 0, so zeros will be returned in the same spots where negative numbers existed in the input array."
   ]
  },
  {
   "cell_type": "code",
   "execution_count": 16,
   "metadata": {},
   "outputs": [
    {
     "data": {
      "text/plain": [
       "array([ 0.        ,  0.        ,  0.        ,  0.        ,  0.        ,\n",
       "       -2.19722458, -1.09861229, -0.58778666, -0.25131443,  0.        ])"
      ]
     },
     "execution_count": 16,
     "metadata": {},
     "output_type": "execute_result"
    }
   ],
   "source": [
    "def logpos(x):\n",
    "    x_pos = np.where(x>0, x, 1) # substitute negative values with 1. \n",
    "    return np.where(x<0, 0.0, np.log(x_pos))\n",
    "\n",
    "xarr = np.linspace(-1, 1, 10); xarr\n",
    "logpos(xarr)"
   ]
  },
  {
   "cell_type": "markdown",
   "metadata": {},
   "source": [
    "This is cool, but what if we'd like to be warned (or informed) that this is happeneing. Instead of throwing a python warning, lets simply print a notification of what is happening. "
   ]
  },
  {
   "cell_type": "code",
   "execution_count": 17,
   "metadata": {},
   "outputs": [
    {
     "name": "stdout",
     "output_type": "stream",
     "text": [
      "\n",
      "    ************\n",
      "    Warning: \n",
      "    Logarithms do not take negative numbers. The negative values will be replaced\n",
      "    with 1's in the array. These will be represented by zeros in the output array.\n",
      "    ************\n",
      "    \n",
      "    \n"
     ]
    },
    {
     "data": {
      "text/plain": [
       "array([ 0.        ,  0.        ,  0.        ,  0.        ,  0.        ,\n",
       "       -2.19722458, -1.09861229, -0.58778666, -0.25131443,  0.        ])"
      ]
     },
     "execution_count": 17,
     "metadata": {},
     "output_type": "execute_result"
    }
   ],
   "source": [
    "def logpos(x):\n",
    "    notification_message = '''\n",
    "    ************\n",
    "    Warning: \n",
    "    Logarithms do not take negative numbers. The negative values will be replaced\n",
    "    with 1's in the array. These will be represented by zeros in the output array.\n",
    "    ************\n",
    "    \n",
    "    '''\n",
    "    if any(x<0):\n",
    "        print(notification_message)\n",
    "        x_pos = np.where(x>0, x, 1) # substitute negative values with 1. \n",
    "    else:\n",
    "        x_pos = x\n",
    "    return np.where(x<0, 0.0, np.log(x_pos))\n",
    "\n",
    "xarr = np.linspace(-1, 1, 10); xarr\n",
    "logpos(xarr)"
   ]
  },
  {
   "cell_type": "code",
   "execution_count": null,
   "metadata": {},
   "outputs": [],
   "source": []
  }
 ],
 "metadata": {
  "kernelspec": {
   "display_name": "Python 3",
   "language": "python",
   "name": "python3"
  },
  "language_info": {
   "codemirror_mode": {
    "name": "ipython",
    "version": 3
   },
   "file_extension": ".py",
   "mimetype": "text/x-python",
   "name": "python",
   "nbconvert_exporter": "python",
   "pygments_lexer": "ipython3",
   "version": "3.7.0"
  }
 },
 "nbformat": 4,
 "nbformat_minor": 2
}
