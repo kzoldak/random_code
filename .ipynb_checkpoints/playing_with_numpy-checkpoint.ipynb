{
 "cells": [
  {
   "cell_type": "markdown",
   "metadata": {},
   "source": [
    "    values = [A, B, C, D]\n",
    "\n",
    "    A vs B\n",
    "    A vs C\n",
    "    A vs D\n",
    "\n",
    "    B vs C\n",
    "    B vs D\n",
    "\n",
    "    C vs D\n",
    "\n",
    "\n",
    "\n",
    "        x    y    z\n",
    "    x   xx   xy   xz\n",
    "\n",
    "    y   yx   yy   yz\n",
    "\n",
    "    z   zx   zy   zz\n",
    "\n",
    "\n",
    "\n",
    "    X_11   X_11   X_11 ... X_11\n",
    "\n",
    "    X_21   X_21   X_21 ... X_21\n",
    "\n",
    "    X_31   X_21   X_31 ... X_31\n",
    "     .      .      .   ...  . \n",
    "     .      .      .   ...  . \n",
    "     .      .      .   ...  . \n",
    "    X_n1   X_n1   X_n1 ... X_n1\n",
    "\n"
   ]
  },
  {
   "cell_type": "markdown",
   "metadata": {},
   "source": [
    "${\\displaystyle \\mathbf {X} ={\\begin{bmatrix}X_{11}&X_{12}&\\cdots &X_{1p}\\\\X_{21}&X_{22}&\\cdots &X_{2p}\\\\\\vdots &\\vdots &\\ddots &\\vdots \\\\X_{n1}&X_{n2}&\\cdots &X_{np}\\end{bmatrix}}}$\n",
    "\n",
    "\n"
   ]
  },
  {
   "cell_type": "code",
   "execution_count": null,
   "metadata": {},
   "outputs": [],
   "source": [
    "import numpy as np\n",
    "from functools import reduce"
   ]
  },
  {
   "cell_type": "code",
   "execution_count": null,
   "metadata": {},
   "outputs": [],
   "source": [
    "v = [1, 2, 3, 4]"
   ]
  },
  {
   "cell_type": "code",
   "execution_count": null,
   "metadata": {},
   "outputs": [],
   "source": [
    "# IN A TRADITIONAL FOR LOOP\n",
    "for i in v:\n",
    "    for j in v[i:]:\n",
    "        if i == j:\n",
    "            pass\n",
    "        else:\n",
    "            print('%i vs %i'%(i,j))"
   ]
  },
  {
   "cell_type": "code",
   "execution_count": null,
   "metadata": {},
   "outputs": [],
   "source": [
    "# IN A LIST COMPREHENSION\n",
    "['%i vs %i'%(i,j) for i in v for j in v[i:]]"
   ]
  },
  {
   "cell_type": "code",
   "execution_count": null,
   "metadata": {},
   "outputs": [],
   "source": [
    "1/2/3/4\n",
    "reduce(lambda x, y: x/y, [1, 2, 3, 4]) "
   ]
  },
  {
   "cell_type": "code",
   "execution_count": null,
   "metadata": {},
   "outputs": [],
   "source": [
    "# These are the same.\n",
    "1+2+3+4\n",
    "np.sum([1,2,3,4])\n",
    "reduce(lambda x, y: x+y, [1, 2, 3, 4]) "
   ]
  },
  {
   "cell_type": "code",
   "execution_count": null,
   "metadata": {
    "scrolled": true
   },
   "outputs": [],
   "source": [
    "# same\n",
    "1*2*3*4\n",
    "np.product([1,2,3,4])\n",
    "reduce(lambda x, y: x*y, [1, 2, 3, 4]) "
   ]
  }
 ],
 "metadata": {
  "kernelspec": {
   "display_name": "Python 3",
   "language": "python",
   "name": "python3"
  },
  "language_info": {
   "codemirror_mode": {
    "name": "ipython",
    "version": 3
   },
   "file_extension": ".py",
   "mimetype": "text/x-python",
   "name": "python",
   "nbconvert_exporter": "python",
   "pygments_lexer": "ipython3",
   "version": "3.7.0"
  }
 },
 "nbformat": 4,
 "nbformat_minor": 2
}
