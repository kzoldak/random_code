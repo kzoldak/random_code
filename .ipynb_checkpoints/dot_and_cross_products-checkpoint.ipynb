{
 "cells": [
  {
   "cell_type": "code",
   "execution_count": 1,
   "metadata": {},
   "outputs": [],
   "source": [
    "import numpy as np"
   ]
  },
  {
   "cell_type": "markdown",
   "metadata": {},
   "source": [
    "# Dot Product"
   ]
  },
  {
   "cell_type": "code",
   "execution_count": 2,
   "metadata": {},
   "outputs": [],
   "source": [
    "def dot_product(a, b):\n",
    "    dots = []\n",
    "    for i,j in zip(a,b):\n",
    "        dots.append(i*j)\n",
    "    return sum(dots)"
   ]
  },
  {
   "cell_type": "code",
   "execution_count": 3,
   "metadata": {},
   "outputs": [],
   "source": [
    "A = np.asarray([1, 5, 2, 12])\n",
    "B = np.asarray([4.5, 22.1, 1.95, 1.2])"
   ]
  },
  {
   "cell_type": "code",
   "execution_count": 4,
   "metadata": {},
   "outputs": [
    {
     "name": "stdout",
     "output_type": "stream",
     "text": [
      "133.3\n",
      "133.3\n"
     ]
    }
   ],
   "source": [
    "print(dot_product(a=A, b=B))\n",
    "print(np.dot(a=A, b=B))  # using numpy"
   ]
  },
  {
   "cell_type": "code",
   "execution_count": 5,
   "metadata": {},
   "outputs": [],
   "source": [
    "import time"
   ]
  },
  {
   "cell_type": "code",
   "execution_count": 6,
   "metadata": {},
   "outputs": [],
   "source": [
    "A = np.asarray([1, 5, 2, 12])\n",
    "B = np.asarray([4.5, 22.1, 1.95, 1.2])"
   ]
  },
  {
   "cell_type": "code",
   "execution_count": 7,
   "metadata": {},
   "outputs": [
    {
     "name": "stdout",
     "output_type": "stream",
     "text": [
      "133.3\n",
      "133.3\n"
     ]
    },
    {
     "data": {
      "text/plain": [
       "(0.0004410743713378906, 0.00024819374084472656)"
      ]
     },
     "execution_count": 7,
     "metadata": {},
     "output_type": "execute_result"
    }
   ],
   "source": [
    "start = time.time()\n",
    "print(dot_product(a=A, b=B))\n",
    "dur1 = time.time() - start\n",
    "\n",
    "start = time.time()\n",
    "print(np.dot(a=A, b=B))\n",
    "dur2 = time.time() - start\n",
    "\n",
    "dur1, dur2"
   ]
  },
  {
   "cell_type": "code",
   "execution_count": 8,
   "metadata": {},
   "outputs": [
    {
     "name": "stdout",
     "output_type": "stream",
     "text": [
      "1668335083166.7056\n",
      "1668335083166.7512\n"
     ]
    },
    {
     "data": {
      "text/plain": [
       "(5.7598347663879395, 0.011139154434204102)"
      ]
     },
     "execution_count": 8,
     "metadata": {},
     "output_type": "execute_result"
    }
   ],
   "source": [
    "A = np.linspace(1, 1000, 10000000)\n",
    "B = A/2.\n",
    "\n",
    "start = time.time()\n",
    "print(dot_product(a=A, b=B))\n",
    "dur1 = time.time() - start\n",
    "\n",
    "start = time.time()\n",
    "print(np.dot(a=A, b=B))\n",
    "dur2 = time.time() - start\n",
    "\n",
    "\n",
    "dur1, dur2"
   ]
  },
  {
   "cell_type": "markdown",
   "metadata": {},
   "source": [
    "# Cross Product"
   ]
  },
  {
   "cell_type": "markdown",
   "metadata": {},
   "source": [
    "If \n",
    "\n",
    "    u = [1, 2, 3]\n",
    "    v = [4, 5, 6]\n",
    "\n",
    "extend both using `u.extend(u[:2])` and `v.extend(v[:2])`, then you can use a simple for loop.\n",
    "\n",
    "         x  y  z  \n",
    "    u = [1, 2, 3, 1, 2]\n",
    "    v = [4, 5, 6, 4, 5]"
   ]
  },
  {
   "cell_type": "code",
   "execution_count": 9,
   "metadata": {},
   "outputs": [],
   "source": [
    "def cross_product(u, v):\n",
    "    '''\n",
    "    x_hat(u_y * v_z    -    u_z * v_y) \n",
    "    y_hat(u_z * v_x    -    u_x * v_z) \n",
    "    z_hat(u_x * v_y    -    u_y * v_x)\n",
    "    '''\n",
    "    u = list(u)\n",
    "    v = list(v)\n",
    "    n = len(u)\n",
    "    u.extend(u[:2])\n",
    "    v.extend(v[:2])\n",
    "    croz = []\n",
    "    for i in range(0,n):\n",
    "        #print('%i * %i - %i * %i'%(u[i+1], v[i+2], u[i+2], v[i+1]))\n",
    "        croz.append( (u[i+1] * v[i+2]) - (u[i+2] * v[i+1]) )\n",
    "    return np.asarray(croz)"
   ]
  },
  {
   "cell_type": "code",
   "execution_count": 10,
   "metadata": {},
   "outputs": [
    {
     "name": "stdout",
     "output_type": "stream",
     "text": [
      "[-3  6 -3]\n",
      "[-3  6 -3]\n"
     ]
    }
   ],
   "source": [
    "u = [1, 2, 3]\n",
    "v = [4, 5, 6]\n",
    "print(cross_product(u,v))\n",
    "print(np.cross(u,v))    # using numpy"
   ]
  },
  {
   "cell_type": "code",
   "execution_count": 11,
   "metadata": {},
   "outputs": [
    {
     "name": "stdout",
     "output_type": "stream",
     "text": [
      "[ 39 -73   7]\n",
      "[ 39 -73   7]\n"
     ]
    }
   ],
   "source": [
    "u = [5, 2, -7]\n",
    "v = [9, 5, 2]\n",
    "print(cross_product(u,v))\n",
    "print(np.cross(u,v))"
   ]
  },
  {
   "cell_type": "code",
   "execution_count": 12,
   "metadata": {},
   "outputs": [
    {
     "name": "stdout",
     "output_type": "stream",
     "text": [
      "[ 1.68424 -9.2795  15.61967]\n",
      "[ 1.68424 -9.2795  15.61967]\n"
     ]
    }
   ],
   "source": [
    "u = [12.4, -10.4663, -7.555]\n",
    "v = [.9, .5, .2]\n",
    "print(cross_product(u,v))\n",
    "print(np.cross(u,v))"
   ]
  },
  {
   "cell_type": "code",
   "execution_count": 13,
   "metadata": {},
   "outputs": [
    {
     "name": "stdout",
     "output_type": "stream",
     "text": [
      "[ 1.473e+54  3.742e+53 -7.564e+54]\n",
      "[ 1.473e+54  3.742e+53 -7.564e+54]\n"
     ]
    }
   ],
   "source": [
    "u = [1.432E54, 9.2E54, 7.34E53]\n",
    "v = [.9, .5, .2]\n",
    "print(cross_product(u,v))\n",
    "print(np.cross(u,v))"
   ]
  },
  {
   "cell_type": "code",
   "execution_count": 14,
   "metadata": {},
   "outputs": [
    {
     "name": "stdout",
     "output_type": "stream",
     "text": [
      "[ 7.564e+54 -7.564e+54]\n",
      "-7.564e+54\n"
     ]
    }
   ],
   "source": [
    "u = [1.432E54, 9.2E54]\n",
    "v = [.9, .5]\n",
    "print(cross_product(u,v))\n",
    "print(np.cross(u,v))"
   ]
  },
  {
   "cell_type": "code",
   "execution_count": 15,
   "metadata": {},
   "outputs": [
    {
     "name": "stdout",
     "output_type": "stream",
     "text": [
      "[-6.2575  6.2575]\n",
      "6.2575\n"
     ]
    }
   ],
   "source": [
    "u = [12.4, -7.555]\n",
    "v = [ .5, .2]\n",
    "print(cross_product(u,v))\n",
    "print(np.cross(u,v))"
   ]
  },
  {
   "cell_type": "code",
   "execution_count": 16,
   "metadata": {},
   "outputs": [
    {
     "name": "stdout",
     "output_type": "stream",
     "text": [
      "[ 4 -4]\n",
      "-4\n"
     ]
    }
   ],
   "source": [
    "u = [1, 2]\n",
    "v = [5, 6]\n",
    "print(cross_product(u,v))\n",
    "print(np.cross(u,v))"
   ]
  }
 ],
 "metadata": {
  "kernelspec": {
   "display_name": "Python 3",
   "language": "python",
   "name": "python3"
  },
  "language_info": {
   "codemirror_mode": {
    "name": "ipython",
    "version": 3
   },
   "file_extension": ".py",
   "mimetype": "text/x-python",
   "name": "python",
   "nbconvert_exporter": "python",
   "pygments_lexer": "ipython3",
   "version": "3.7.0"
  }
 },
 "nbformat": 4,
 "nbformat_minor": 2
}
