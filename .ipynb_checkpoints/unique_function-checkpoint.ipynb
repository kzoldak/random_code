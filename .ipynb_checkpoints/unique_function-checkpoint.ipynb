{
 "cells": [
  {
   "cell_type": "markdown",
   "metadata": {},
   "source": [
    "This notebook contains a function I wrote to replicate the functionality of `numpy.unique`.\n",
    "```\n",
    "\n",
    "\n",
    "\n",
    "```"
   ]
  },
  {
   "cell_type": "code",
   "execution_count": 1,
   "metadata": {},
   "outputs": [],
   "source": [
    "import numpy as np"
   ]
  },
  {
   "cell_type": "code",
   "execution_count": 2,
   "metadata": {},
   "outputs": [],
   "source": [
    "colors = ['yellow', 'brown', 'green', 'blue', \n",
    "          'purple', 'brown', 'green', 'red']"
   ]
  },
  {
   "cell_type": "code",
   "execution_count": 3,
   "metadata": {},
   "outputs": [],
   "source": [
    "np.unique?"
   ]
  },
  {
   "cell_type": "markdown",
   "metadata": {},
   "source": [
    "### My Unique Function\n",
    "In my version, I leave numpy's axis argument off. The functionality of it is above the scope of this notebook. \n",
    "\n",
    "However, one thing I do add to the my unique function is the ability to return unique values of a list without sorthing into alphabetical order."
   ]
  },
  {
   "cell_type": "code",
   "execution_count": 4,
   "metadata": {},
   "outputs": [],
   "source": [
    "def unique(ar, return_index=False, return_inverse=False, \n",
    "           return_counts=False, sorted_values=True):\n",
    "    '''\n",
    "    I added on sorted_values = True. This means nothing special will happen. \n",
    "    Only when sorted_values = False will everything in the function \n",
    "    be ignored EXCEPT the if all(.... statement at the very end.\n",
    "    This allows for me to get the unique list of values without \n",
    "    them being sorted. \n",
    "    \n",
    "    '''\n",
    "    values = ar\n",
    "    \n",
    "    out = []\n",
    "    \n",
    "    vals = sorted(list(set(values)))  # set removes duplicates\n",
    "    out = vals\n",
    "    \n",
    "    if any(i is True for i in [return_index, return_inverse, return_counts]):\n",
    "        out = [out]  # make it a list \n",
    "            \n",
    "    if return_index:\n",
    "        indxs = [values.index(val) for val in vals]\n",
    "        out.append(indxs)\n",
    "    \n",
    "    if return_inverse:\n",
    "        # THIS IS THE ALPHABETICAL INDEX THAT EACH VALUE HAS IN ITS \n",
    "        # ORIGINAL LIST. \n",
    "        inverse = [vals.index(value) for value in values]\n",
    "        out.append(inverse)\n",
    "         \n",
    "    if return_counts:\n",
    "        counts = [values.count(val) for val in vals]\n",
    "        out.append(counts)\n",
    "    \n",
    "    if all(i is False for i in [sorted_values, return_index, \n",
    "                                return_inverse, return_counts]):\n",
    "        unique_values = []\n",
    "        for val in values:\n",
    "            if val not in unique_values:\n",
    "                unique_values.append(val)\n",
    "            else:\n",
    "                pass\n",
    "        out = unique_values\n",
    "\n",
    "    return out #tuple(out)\n",
    "    "
   ]
  },
  {
   "cell_type": "code",
   "execution_count": 5,
   "metadata": {},
   "outputs": [
    {
     "data": {
      "text/plain": [
       "array(['blue', 'brown', 'green', 'purple', 'red', 'yellow'], dtype='<U6')"
      ]
     },
     "execution_count": 5,
     "metadata": {},
     "output_type": "execute_result"
    }
   ],
   "source": [
    "np.unique(colors)"
   ]
  },
  {
   "cell_type": "code",
   "execution_count": 6,
   "metadata": {},
   "outputs": [
    {
     "data": {
      "text/plain": [
       "['blue', 'brown', 'green', 'purple', 'red', 'yellow']"
      ]
     },
     "execution_count": 6,
     "metadata": {},
     "output_type": "execute_result"
    }
   ],
   "source": [
    "unique(colors)"
   ]
  },
  {
   "cell_type": "code",
   "execution_count": 7,
   "metadata": {},
   "outputs": [
    {
     "data": {
      "text/plain": [
       "['yellow', 'brown', 'green', 'blue', 'purple', 'red']"
      ]
     },
     "execution_count": 7,
     "metadata": {},
     "output_type": "execute_result"
    }
   ],
   "source": [
    "unique(colors, sorted_values=False)  # non-sorted unique (my function only)"
   ]
  },
  {
   "cell_type": "markdown",
   "metadata": {},
   "source": [
    "**return_index**"
   ]
  },
  {
   "cell_type": "code",
   "execution_count": 8,
   "metadata": {},
   "outputs": [
    {
     "data": {
      "text/plain": [
       "(array(['blue', 'brown', 'green', 'purple', 'red', 'yellow'], dtype='<U6'),\n",
       " array([3, 1, 2, 4, 7, 0]))"
      ]
     },
     "execution_count": 8,
     "metadata": {},
     "output_type": "execute_result"
    }
   ],
   "source": [
    "np.unique(colors, return_index=True)"
   ]
  },
  {
   "cell_type": "code",
   "execution_count": 9,
   "metadata": {},
   "outputs": [
    {
     "data": {
      "text/plain": [
       "[['blue', 'brown', 'green', 'purple', 'red', 'yellow'], [3, 1, 2, 4, 7, 0]]"
      ]
     },
     "execution_count": 9,
     "metadata": {},
     "output_type": "execute_result"
    }
   ],
   "source": [
    "unique(colors, return_index=True)"
   ]
  },
  {
   "cell_type": "markdown",
   "metadata": {},
   "source": [
    "**return_iverse**"
   ]
  },
  {
   "cell_type": "code",
   "execution_count": 10,
   "metadata": {},
   "outputs": [
    {
     "data": {
      "text/plain": [
       "(array(['blue', 'brown', 'green', 'purple', 'red', 'yellow'], dtype='<U6'),\n",
       " array([5, 1, 2, 0, 3, 1, 2, 4]))"
      ]
     },
     "execution_count": 10,
     "metadata": {},
     "output_type": "execute_result"
    }
   ],
   "source": [
    "np.unique(colors, return_inverse=True)"
   ]
  },
  {
   "cell_type": "code",
   "execution_count": 11,
   "metadata": {},
   "outputs": [
    {
     "data": {
      "text/plain": [
       "[['blue', 'brown', 'green', 'purple', 'red', 'yellow'],\n",
       " [5, 1, 2, 0, 3, 1, 2, 4]]"
      ]
     },
     "execution_count": 11,
     "metadata": {},
     "output_type": "execute_result"
    }
   ],
   "source": [
    "unique(colors, return_inverse=True)"
   ]
  },
  {
   "cell_type": "markdown",
   "metadata": {},
   "source": [
    "**return_counts**"
   ]
  },
  {
   "cell_type": "code",
   "execution_count": 12,
   "metadata": {},
   "outputs": [
    {
     "data": {
      "text/plain": [
       "(array(['blue', 'brown', 'green', 'purple', 'red', 'yellow'], dtype='<U6'),\n",
       " array([1, 2, 2, 1, 1, 1]))"
      ]
     },
     "execution_count": 12,
     "metadata": {},
     "output_type": "execute_result"
    }
   ],
   "source": [
    "np.unique(colors, return_counts=True)"
   ]
  },
  {
   "cell_type": "code",
   "execution_count": 13,
   "metadata": {},
   "outputs": [
    {
     "data": {
      "text/plain": [
       "[['blue', 'brown', 'green', 'purple', 'red', 'yellow'], [1, 2, 2, 1, 1, 1]]"
      ]
     },
     "execution_count": 13,
     "metadata": {},
     "output_type": "execute_result"
    }
   ],
   "source": [
    "unique(colors, return_counts=True)"
   ]
  },
  {
   "cell_type": "markdown",
   "metadata": {},
   "source": [
    "**return_index and return_counts**"
   ]
  },
  {
   "cell_type": "code",
   "execution_count": 14,
   "metadata": {},
   "outputs": [
    {
     "data": {
      "text/plain": [
       "(array(['blue', 'brown', 'green', 'purple', 'red', 'yellow'], dtype='<U6'),\n",
       " array([3, 1, 2, 4, 7, 0]),\n",
       " array([1, 2, 2, 1, 1, 1]))"
      ]
     },
     "execution_count": 14,
     "metadata": {},
     "output_type": "execute_result"
    }
   ],
   "source": [
    "np.unique(colors, return_index=True, return_counts=True)"
   ]
  },
  {
   "cell_type": "code",
   "execution_count": 15,
   "metadata": {},
   "outputs": [
    {
     "data": {
      "text/plain": [
       "[['blue', 'brown', 'green', 'purple', 'red', 'yellow'],\n",
       " [3, 1, 2, 4, 7, 0],\n",
       " [1, 2, 2, 1, 1, 1]]"
      ]
     },
     "execution_count": 15,
     "metadata": {},
     "output_type": "execute_result"
    }
   ],
   "source": [
    "unique(colors, return_index=True, return_counts=True)"
   ]
  },
  {
   "cell_type": "markdown",
   "metadata": {},
   "source": [
    "**return_index, return_inverse, and return_counts**"
   ]
  },
  {
   "cell_type": "code",
   "execution_count": 16,
   "metadata": {},
   "outputs": [
    {
     "data": {
      "text/plain": [
       "(array(['blue', 'brown', 'green', 'purple', 'red', 'yellow'], dtype='<U6'),\n",
       " array([3, 1, 2, 4, 7, 0]),\n",
       " array([5, 1, 2, 0, 3, 1, 2, 4]),\n",
       " array([1, 2, 2, 1, 1, 1]))"
      ]
     },
     "execution_count": 16,
     "metadata": {},
     "output_type": "execute_result"
    }
   ],
   "source": [
    "np.unique(colors, return_index=True,  return_inverse=True, return_counts=True)"
   ]
  },
  {
   "cell_type": "code",
   "execution_count": 17,
   "metadata": {},
   "outputs": [
    {
     "data": {
      "text/plain": [
       "[['blue', 'brown', 'green', 'purple', 'red', 'yellow'],\n",
       " [3, 1, 2, 4, 7, 0],\n",
       " [5, 1, 2, 0, 3, 1, 2, 4],\n",
       " [1, 2, 2, 1, 1, 1]]"
      ]
     },
     "execution_count": 17,
     "metadata": {},
     "output_type": "execute_result"
    }
   ],
   "source": [
    "unique(colors, return_index=True,  return_inverse=True, return_counts=True)"
   ]
  },
  {
   "cell_type": "markdown",
   "metadata": {},
   "source": [
    "### With numbers"
   ]
  },
  {
   "cell_type": "code",
   "execution_count": 18,
   "metadata": {},
   "outputs": [],
   "source": [
    "numbers = [10,9,8,1,2,3,2,4,5,3,8,9,10,12,11,9,8,8,7,6,5,5,5,0]"
   ]
  },
  {
   "cell_type": "code",
   "execution_count": 19,
   "metadata": {},
   "outputs": [
    {
     "data": {
      "text/plain": [
       "array([ 0,  1,  2,  3,  4,  5,  6,  7,  8,  9, 10, 11, 12])"
      ]
     },
     "execution_count": 19,
     "metadata": {},
     "output_type": "execute_result"
    }
   ],
   "source": [
    "np.unique(numbers) "
   ]
  },
  {
   "cell_type": "code",
   "execution_count": 20,
   "metadata": {},
   "outputs": [
    {
     "data": {
      "text/plain": [
       "[0, 1, 2, 3, 4, 5, 6, 7, 8, 9, 10, 11, 12]"
      ]
     },
     "execution_count": 20,
     "metadata": {},
     "output_type": "execute_result"
    }
   ],
   "source": [
    "unique(numbers)"
   ]
  },
  {
   "cell_type": "code",
   "execution_count": 21,
   "metadata": {},
   "outputs": [
    {
     "data": {
      "text/plain": [
       "[10, 9, 8, 1, 2, 3, 4, 5, 12, 11, 7, 6, 0]"
      ]
     },
     "execution_count": 21,
     "metadata": {},
     "output_type": "execute_result"
    }
   ],
   "source": [
    "unique(numbers, sorted_values=False)"
   ]
  },
  {
   "cell_type": "code",
   "execution_count": 22,
   "metadata": {},
   "outputs": [
    {
     "data": {
      "text/plain": [
       "(array([ 0,  1,  2,  3,  4,  5,  6,  7,  8,  9, 10, 11, 12]),\n",
       " array([23,  3,  4,  5,  7,  8, 19, 18,  2,  1,  0, 14, 13]),\n",
       " array([10,  9,  8,  1,  2,  3,  2,  4,  5,  3,  8,  9, 10, 12, 11,  9,  8,\n",
       "         8,  7,  6,  5,  5,  5,  0]),\n",
       " array([1, 1, 2, 2, 1, 4, 1, 1, 4, 3, 2, 1, 1]))"
      ]
     },
     "execution_count": 22,
     "metadata": {},
     "output_type": "execute_result"
    }
   ],
   "source": [
    "np.unique(numbers, return_index=True,  return_inverse=True, return_counts=True)"
   ]
  },
  {
   "cell_type": "code",
   "execution_count": 23,
   "metadata": {},
   "outputs": [
    {
     "data": {
      "text/plain": [
       "[[0, 1, 2, 3, 4, 5, 6, 7, 8, 9, 10, 11, 12],\n",
       " [23, 3, 4, 5, 7, 8, 19, 18, 2, 1, 0, 14, 13],\n",
       " [10, 9, 8, 1, 2, 3, 2, 4, 5, 3, 8, 9, 10, 12, 11, 9, 8, 8, 7, 6, 5, 5, 5, 0],\n",
       " [1, 1, 2, 2, 1, 4, 1, 1, 4, 3, 2, 1, 1]]"
      ]
     },
     "execution_count": 23,
     "metadata": {},
     "output_type": "execute_result"
    }
   ],
   "source": [
    "unique(numbers, return_index=True, return_inverse=True, return_counts=True)"
   ]
  }
 ],
 "metadata": {
  "kernelspec": {
   "display_name": "Python 3",
   "language": "python",
   "name": "python3"
  },
  "language_info": {
   "codemirror_mode": {
    "name": "ipython",
    "version": 3
   },
   "file_extension": ".py",
   "mimetype": "text/x-python",
   "name": "python",
   "nbconvert_exporter": "python",
   "pygments_lexer": "ipython3",
   "version": "3.7.0"
  }
 },
 "nbformat": 4,
 "nbformat_minor": 2
}
