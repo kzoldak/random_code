{
 "cells": [
  {
   "cell_type": "markdown",
   "metadata": {},
   "source": [
    "You fit a model $f$, with four free parameters \"A\", \"B\", \"C\", and \"D\" to some data. A variance-covariance matrix will be returned, and conceptually looks something like this:\n",
    "\n",
    "         A   B   C   D\n",
    "        _________________\n",
    "    A  | AA  AB  AC  AD\n",
    "    B  | BA  BB  BC  BD\n",
    "    C  | CA  CB  CC  CD\n",
    "    D  | DA  DB  DC  DD\n",
    "    \n",
    "where AA, BB, CC, and DD (the diagonals) are the variance terms and the AB=BA, AC=CA, AD=DA, BC=CB, ..., (the off-diagonals) are the covariance terms. Because the off-diagonal terms AB and BA are identical, we could also just write it as:\n",
    "\n",
    "         A    B    C    D\n",
    "        _________________\n",
    "    A  | A^2  AB   AC   AD\n",
    "    B  | AB   B^2  BC   BD\n",
    "    C  | AC   BC   C^2  CD\n",
    "    D  | AD   BD   CD   D^2\n"
   ]
  },
  {
   "cell_type": "markdown",
   "metadata": {},
   "source": [
    "If you check out the [Propagation of Uncertainty page on Wikipedia](https://en.wikipedia.org/wiki/Propagation_of_uncertainty) you'll see that the variance-covariance matrix looks like this:\n",
    "\n",
    "${\\displaystyle \\Sigma ^{x}={\\begin{pmatrix}\\sigma _{1}^{2}&\\sigma _{12}&\\sigma _{13}&\\cdots \\\\\\sigma _{12}&\\sigma _{2}^{2}&\\sigma _{23}&\\cdots \\\\\\sigma _{13}&\\sigma _{23}&\\sigma _{3}^{2}&\\cdots \\\\\\vdots &\\vdots &\\vdots &\\ddots \\end{pmatrix}}={\\begin{pmatrix}{\\Sigma }_{11}^{x}&{\\Sigma }_{12}^{x}&{\\Sigma }_{13}^{x}&\\cdots \\\\{\\Sigma }_{12}^{x}&{\\Sigma }_{22}^{x}&{\\Sigma }_{23}^{x}&\\cdots \\\\{\\Sigma }_{13}^{x}&{\\Sigma }_{23}^{x}&{\\Sigma }_{33}^{x}&\\cdots \\\\\\vdots &\\vdots &\\vdots &\\ddots \\end{pmatrix}}}$\n",
    "\n",
    "where in our case, it would be:\n",
    "\n",
    "${\\displaystyle \\Sigma ^{x}={\\begin{pmatrix}\\sigma _{A}^{2}&\\sigma _{AB}&\\sigma _{AC}&\\sigma _{AD}\\\\\\sigma _{AB}&\\sigma _{B}^{2}&\\sigma _{BC}& \\sigma _{BD} \\\\\\sigma _{AC}&\\sigma _{BC}&\\sigma _{C}^{2}& \\sigma _{CD}^{2} \\\\ \\sigma _{AD}&\\sigma _{BD}&\\sigma _{CD}^{2}& \\sigma _{D}^{2}\\end{pmatrix}}}$"
   ]
  },
  {
   "cell_type": "markdown",
   "metadata": {},
   "source": [
    "__These terms are used in the Propagation of Uncertainty Equation (below). We split it up into two parts, PART 1 and PART 2.__\n",
    "\n",
    "__PART 1 incorporates the variance terms and PART 2 incorporates the covariance terms.__\n",
    "\n",
    "\n",
    "${\\displaystyle \\sigma{f}= \\text{PART1} + \\text{PART2}}$\n",
    "\n",
    "${\\displaystyle \\text{PART1} ={\\sqrt {\\left({\\frac {\\partial f}{\\partial A}}\\right)^{2}\\sigma_{A}^{2}+\\left({\\frac {\\partial f}{\\partial B}}\\right)^{2}\\sigma_{B}^{2}+\\left({\\frac {\\partial f}{\\partial C}}\\right)^{2}\\sigma_{C}^{2} +\\left({\\frac {\\partial f}{\\partial D}}\\right)^{2}\\sigma_{D}^{2} \\ + } }}$\n",
    "\n",
    "${\\displaystyle \\text{PART2} = {\\sqrt {\n",
    " 2{\\frac {\\partial f}{\\partial A}}{\\frac {\\partial f}{\\partial B}}\\sigma _{AB}\n",
    "+ 2{\\frac {\\partial f}{\\partial A}}{\\frac {\\partial f}{\\partial C}}\\sigma _{AC}\n",
    "+ 2{\\frac {\\partial f}{\\partial A}}{\\frac {\\partial f}{\\partial D}}\\sigma _{AD}\n",
    "+ 2{\\frac {\\partial f}{\\partial B}}{\\frac {\\partial f}{\\partial C}}\\sigma _{BC}\n",
    "+ 2{\\frac {\\partial f}{\\partial B}}{\\frac {\\partial f}{\\partial D}}\\sigma _{BD}\n",
    "+ 2{\\frac {\\partial f}{\\partial C}}{\\frac {\\partial f}{\\partial D}}\\sigma _{CD}}}}$\n",
    "\n",
    "\n",
    "One must also calculate the partial derivative of the function $f$ with respect to each parameter; those are the ${\\frac {\\partial f}{\\partial A}}$, ${\\frac {\\partial f}{\\partial B}}$, ${\\frac {\\partial f}{\\partial C}}$, ${\\frac {\\partial f}{\\partial D}}$ terms."
   ]
  },
  {
   "cell_type": "markdown",
   "metadata": {},
   "source": [
    "<font size=5 color=blue>\n",
    "The point of this notebook is NOT to show an example of how to propagate error; I do that in another notebook. \n",
    "    \n",
    "The point of this notebook is to show how to grab the off-diagonal terms in a matrix, but only once. For example, I want to retreive AB, but not also BA since they are identical and I only need one of them for the *error propagation equation*. \n",
    "</font>"
   ]
  },
  {
   "cell_type": "code",
   "execution_count": 2,
   "metadata": {},
   "outputs": [],
   "source": [
    "import numpy as np"
   ]
  },
  {
   "cell_type": "markdown",
   "metadata": {},
   "source": [
    "<font size=4>\n",
    "If we just have a vector:\n",
    "</font>"
   ]
  },
  {
   "cell_type": "code",
   "execution_count": 3,
   "metadata": {},
   "outputs": [],
   "source": [
    "letters = ['A', 'B', 'C', 'D']"
   ]
  },
  {
   "cell_type": "markdown",
   "metadata": {},
   "source": [
    "__Using range__"
   ]
  },
  {
   "cell_type": "code",
   "execution_count": 4,
   "metadata": {},
   "outputs": [
    {
     "name": "stdout",
     "output_type": "stream",
     "text": [
      "A  vs  B\n",
      "A  vs  C\n",
      "A  vs  D\n",
      "\n",
      "B  vs  C\n",
      "B  vs  D\n",
      "\n",
      "C  vs  D\n",
      "\n",
      "\n"
     ]
    }
   ],
   "source": [
    "for i in range(0, len(letters)):\n",
    "    for j in range(i+1, len(letters)):\n",
    "        print('%s  vs  %s'%(letters[i], letters[j]))\n",
    "    print('')"
   ]
  },
  {
   "cell_type": "markdown",
   "metadata": {},
   "source": [
    "__Using enumerate__"
   ]
  },
  {
   "cell_type": "code",
   "execution_count": 5,
   "metadata": {},
   "outputs": [
    {
     "name": "stdout",
     "output_type": "stream",
     "text": [
      "A  vs  B\n",
      "A  vs  C\n",
      "A  vs  D\n",
      "\n",
      "B  vs  C\n",
      "B  vs  D\n",
      "\n",
      "C  vs  D\n",
      "\n",
      "\n"
     ]
    }
   ],
   "source": [
    "for i,ival in enumerate(letters):\n",
    "    for j,jval in enumerate(letters[i+1:]):\n",
    "        print('%s  vs  %s'%(ival, jval))\n",
    "    print('')"
   ]
  },
  {
   "cell_type": "markdown",
   "metadata": {},
   "source": [
    "<font size=4>\n",
    "If we have a matrix:\n",
    "</font>"
   ]
  },
  {
   "cell_type": "code",
   "execution_count": 6,
   "metadata": {},
   "outputs": [],
   "source": [
    "M = np.matrix([['AA', 'BA', 'CA', 'DA'],\n",
    "                ['AB', 'BB', 'CB', 'DB'],\n",
    "                ['AC', 'BC', 'CC', 'DC'],\n",
    "                ['AD', 'BD', 'CD', 'DD']])"
   ]
  },
  {
   "cell_type": "code",
   "execution_count": 7,
   "metadata": {},
   "outputs": [
    {
     "data": {
      "text/plain": [
       "matrix([['AA', 'BA', 'CA', 'DA'],\n",
       "        ['AB', 'BB', 'CB', 'DB'],\n",
       "        ['AC', 'BC', 'CC', 'DC'],\n",
       "        ['AD', 'BD', 'CD', 'DD']], dtype='<U2')"
      ]
     },
     "execution_count": 7,
     "metadata": {},
     "output_type": "execute_result"
    }
   ],
   "source": [
    "M"
   ]
  },
  {
   "cell_type": "code",
   "execution_count": 8,
   "metadata": {},
   "outputs": [
    {
     "name": "stdout",
     "output_type": "stream",
     "text": [
      "BA\n",
      "CA\n",
      "DA\n",
      "\n",
      "CB\n",
      "DB\n",
      "\n",
      "DC\n",
      "\n",
      "\n"
     ]
    }
   ],
   "source": [
    "for i in range(0, len(M)):\n",
    "    for j in range(i+1, len(M)):\n",
    "        print(M[i,j])\n",
    "    print('')"
   ]
  },
  {
   "cell_type": "code",
   "execution_count": 9,
   "metadata": {},
   "outputs": [
    {
     "name": "stdout",
     "output_type": "stream",
     "text": [
      "AB\n",
      "AC\n",
      "AD\n",
      "\n",
      "BC\n",
      "BD\n",
      "\n",
      "CD\n",
      "\n",
      "\n"
     ]
    }
   ],
   "source": [
    "for i in range(0, len(M)):\n",
    "    for j in range(i+1, len(M)):\n",
    "        print(M[j,i])\n",
    "    print('')"
   ]
  },
  {
   "cell_type": "code",
   "execution_count": 10,
   "metadata": {},
   "outputs": [
    {
     "name": "stdout",
     "output_type": "stream",
     "text": [
      "A  vs  B\n",
      "A  vs  C\n",
      "A  vs  D\n",
      "\n",
      "B  vs  C\n",
      "B  vs  D\n",
      "\n",
      "C  vs  D\n",
      "\n",
      "\n"
     ]
    }
   ],
   "source": [
    "for i,ival in enumerate(letters):\n",
    "    for j,jval in enumerate(letters[i+1:]):\n",
    "        print('%s  vs  %s'%(ival, jval))\n",
    "    print('')"
   ]
  },
  {
   "cell_type": "code",
   "execution_count": 12,
   "metadata": {},
   "outputs": [],
   "source": [
    "def get_unique_off_diags(mat):\n",
    "    n = len(mat)\n",
    "    values = []\n",
    "    for i in range(0, n-1):\n",
    "        values = values + mat[i, i+1:].tolist()[0]\n",
    "    return values\n"
   ]
  },
  {
   "cell_type": "code",
   "execution_count": 13,
   "metadata": {},
   "outputs": [
    {
     "data": {
      "text/plain": [
       "['BA', 'CA', 'DA', 'CB', 'DB', 'DC']"
      ]
     },
     "execution_count": 13,
     "metadata": {},
     "output_type": "execute_result"
    }
   ],
   "source": [
    "get_unique_off_diags(M)"
   ]
  },
  {
   "cell_type": "code",
   "execution_count": 14,
   "metadata": {},
   "outputs": [],
   "source": [
    "B = np.matrix([[1,         2.432,    -1.483,      0.0073], \n",
    "               [2.432,         1,     23.12,      -0.075], \n",
    "               [-1.483,    23.12,         1,       -19.7], \n",
    "               [0.0073,   -0.075,     -19.7,           1]])"
   ]
  },
  {
   "cell_type": "code",
   "execution_count": 15,
   "metadata": {},
   "outputs": [
    {
     "data": {
      "text/plain": [
       "[2.432, -1.483, 0.0073, 23.12, -0.075, -19.7]"
      ]
     },
     "execution_count": 15,
     "metadata": {},
     "output_type": "execute_result"
    }
   ],
   "source": [
    "get_unique_off_diags(B)"
   ]
  }
 ],
 "metadata": {
  "kernelspec": {
   "display_name": "Python 3",
   "language": "python",
   "name": "python3"
  },
  "language_info": {
   "codemirror_mode": {
    "name": "ipython",
    "version": 3
   },
   "file_extension": ".py",
   "mimetype": "text/x-python",
   "name": "python",
   "nbconvert_exporter": "python",
   "pygments_lexer": "ipython3",
   "version": "3.7.0"
  }
 },
 "nbformat": 4,
 "nbformat_minor": 2
}
