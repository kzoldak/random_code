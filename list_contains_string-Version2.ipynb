{
 "cells": [
  {
   "cell_type": "markdown",
   "metadata": {},
   "source": [
    "### Importing a few useful functions"
   ]
  },
  {
   "cell_type": "code",
   "execution_count": 1,
   "metadata": {},
   "outputs": [],
   "source": [
    "from useful_functions import _upper, _lower, _unique"
   ]
  },
  {
   "cell_type": "markdown",
   "metadata": {},
   "source": [
    "```\n",
    "\n",
    "\n",
    "\n",
    "```"
   ]
  },
  {
   "cell_type": "markdown",
   "metadata": {},
   "source": [
    "## Functions for comparing two lists of strings "
   ]
  },
  {
   "cell_type": "markdown",
   "metadata": {},
   "source": [
    "**For Loops**"
   ]
  },
  {
   "cell_type": "code",
   "execution_count": 2,
   "metadata": {},
   "outputs": [],
   "source": [
    "def str_contains_A(listOne, listTwo, unique=True, case=True):\n",
    "    hits = []\n",
    "    for i in listOne:\n",
    "        for j in listTwo:\n",
    "            if case:\n",
    "                if i in j:\n",
    "                    hits.append(j)           \n",
    "            else:\n",
    "                if i.lower() in j.lower():\n",
    "                    hits.append(j)\n",
    "    if unique:\n",
    "        hits = _unique(hits)\n",
    "    return hits"
   ]
  },
  {
   "cell_type": "markdown",
   "metadata": {},
   "source": [
    "**List Comprehensions**"
   ]
  },
  {
   "cell_type": "code",
   "execution_count": 3,
   "metadata": {},
   "outputs": [],
   "source": [
    "def str_contains_B(listOne, listTwo, unique=True, case=True):\n",
    "    hits = []\n",
    "    if case is True:\n",
    "        contains = lambda One,Two: [j for i in One for j in Two if i in j]\n",
    "    else:\n",
    "        contains = lambda One,Two: [j for i in One for j in Two if i.lower() in j.lower()]\n",
    "    \n",
    "    hits = contains(listOne, listTwo)\n",
    "    hits = (_unique(hits) if unique else hits)\n",
    "    return hits"
   ]
  },
  {
   "cell_type": "markdown",
   "metadata": {},
   "source": [
    "**Introducing Exclusivity**\n",
    "\n",
    "Sometimes we find ourselves wanting only the results of a list to be returned that contain *all* the words from another list. \n",
    "For an example, we use a subset of matplotlib's rcParams and we wish to have *only* the results returned having *both* 'axes' and 'label', not 'axes' or 'label':\n",
    "    \n",
    "    list1 = ['axes', 'label']\n",
    "    list2 = ['axes.grid', 'axes.grid.axis', 'axes.grid.which', 'axes.labelcolor', \n",
    "             'axes.labelpad', 'axes.labelpad', 'axes.labelsize', 'axes.labelweight',\n",
    "             'axes.linewidth']\n",
    "\n",
    "We want the function to return ONLY those string results within list2 that contain both 'axes' and 'label'. If we used the functions above, they would return all of the strings in list2 because they have either 'axes' or 'label' in each one. \n",
    "\n",
    "To achieve this functionality, we resorted to using the Python built-in functions `any` and `all`. "
   ]
  },
  {
   "cell_type": "code",
   "execution_count": null,
   "metadata": {},
   "outputs": [],
   "source": [
    "list2 = ['axes.grid', 'axes.grid.axis', 'axes.grid.which', 'axes.labelcolor', \n",
    "         'axes.labelpad', 'axes.labelpad', 'axes.labelsize', 'axes.labelweight',\n",
    "         'axes.linewidth']"
   ]
  },
  {
   "cell_type": "code",
   "execution_count": 16,
   "metadata": {},
   "outputs": [
    {
     "name": "stdout",
     "output_type": "stream",
     "text": [
      "axes.labelcolor\n",
      "axes.labelpad\n",
      "axes.labelpad\n",
      "axes.labelsize\n",
      "axes.labelweight\n"
     ]
    }
   ],
   "source": [
    "for j in list2:\n",
    "    if ('axes' in j) and ('label' in j):  # replace with all\n",
    "        print(j)"
   ]
  },
  {
   "cell_type": "code",
   "execution_count": 18,
   "metadata": {},
   "outputs": [
    {
     "name": "stdout",
     "output_type": "stream",
     "text": [
      "axes.labelcolor\n",
      "axes.labelpad\n",
      "axes.labelpad\n",
      "axes.labelsize\n",
      "axes.labelweight\n"
     ]
    }
   ],
   "source": [
    "for j in list2:\n",
    "    if all(i in j for i in ['axes', 'label']):\n",
    "        print(j)"
   ]
  },
  {
   "cell_type": "code",
   "execution_count": 15,
   "metadata": {},
   "outputs": [
    {
     "name": "stdout",
     "output_type": "stream",
     "text": [
      "axes.grid\n",
      "axes.grid.axis\n",
      "axes.grid.which\n",
      "axes.labelcolor\n",
      "axes.labelpad\n",
      "axes.labelpad\n",
      "axes.labelsize\n",
      "axes.labelweight\n",
      "axes.linewidth\n"
     ]
    }
   ],
   "source": [
    "for j in list2:\n",
    "    if ('axes' in j) or ('label' in j):  # replace with any\n",
    "        print(j)"
   ]
  },
  {
   "cell_type": "code",
   "execution_count": 19,
   "metadata": {},
   "outputs": [
    {
     "name": "stdout",
     "output_type": "stream",
     "text": [
      "axes.grid\n",
      "axes.grid.axis\n",
      "axes.grid.which\n",
      "axes.labelcolor\n",
      "axes.labelpad\n",
      "axes.labelpad\n",
      "axes.labelsize\n",
      "axes.labelweight\n",
      "axes.linewidth\n"
     ]
    }
   ],
   "source": [
    "for j in list2:\n",
    "    if any(i in j for i in ['axes', 'label']):\n",
    "        print(j)"
   ]
  },
  {
   "cell_type": "code",
   "execution_count": null,
   "metadata": {},
   "outputs": [],
   "source": []
  },
  {
   "cell_type": "code",
   "execution_count": 12,
   "metadata": {},
   "outputs": [
    {
     "data": {
      "text/plain": [
       "['axes.labelcolor',\n",
       " 'axes.labelpad',\n",
       " 'axes.labelpad',\n",
       " 'axes.labelsize',\n",
       " 'axes.labelweight']"
      ]
     },
     "execution_count": 12,
     "metadata": {},
     "output_type": "execute_result"
    }
   ],
   "source": [
    "[j for j in list2 if all(i in j for i in ['axes', 'label'])]"
   ]
  },
  {
   "cell_type": "code",
   "execution_count": 14,
   "metadata": {},
   "outputs": [
    {
     "data": {
      "text/plain": [
       "['axes.grid',\n",
       " 'axes.grid.axis',\n",
       " 'axes.grid.which',\n",
       " 'axes.labelcolor',\n",
       " 'axes.labelpad',\n",
       " 'axes.labelpad',\n",
       " 'axes.labelsize',\n",
       " 'axes.labelweight',\n",
       " 'axes.linewidth']"
      ]
     },
     "execution_count": 14,
     "metadata": {},
     "output_type": "execute_result"
    }
   ],
   "source": [
    "[j for j in list2 if any(i in j for i in ['axes', 'label'])]"
   ]
  },
  {
   "cell_type": "code",
   "execution_count": null,
   "metadata": {},
   "outputs": [],
   "source": []
  },
  {
   "cell_type": "code",
   "execution_count": null,
   "metadata": {},
   "outputs": [],
   "source": []
  },
  {
   "cell_type": "markdown",
   "metadata": {},
   "source": [
    "**List Comprehensions with `any` and `all`**\n",
    "\n",
    "These are set up to use exclusive=True, meaning exclude all results unless both words in the list1 are contained within any entry in list2."
   ]
  },
  {
   "cell_type": "code",
   "execution_count": 5,
   "metadata": {},
   "outputs": [],
   "source": [
    "def str_contains_D(listOne, listTwo, unique=True, case=True, exclusive=True):\n",
    "    hits = []\n",
    "    if case is True:\n",
    "        if exclusive is True:\n",
    "            contains = lambda One,Two: [j for j in Two if all(i in j for i in One)]\n",
    "        else:\n",
    "            contains = lambda One,Two: [j for j in Two if any(i in j for i in One)]\n",
    "    else:\n",
    "        if exclusive is True:\n",
    "            contains = lambda One,Two: [j for j in Two if all(i.lower() in j.lower() for i in One)]\n",
    "        else:\n",
    "            contains = lambda One,Two: [j for j in Two if any(i.lower() in j.lower() for i in One)]\n",
    "    \n",
    "    hits = contains(listOne, listTwo)\n",
    "    hits = (_unique(hits) if unique else hits)\n",
    "    return hits\n"
   ]
  },
  {
   "cell_type": "code",
   "execution_count": 6,
   "metadata": {},
   "outputs": [],
   "source": [
    "import re"
   ]
  },
  {
   "cell_type": "code",
   "execution_count": 7,
   "metadata": {},
   "outputs": [],
   "source": [
    "def str_contains_E(listOne, listTwo, unique=True, case=True, exclusive=True):\n",
    "    if case is True:\n",
    "        if exclusive is True:\n",
    "            #contains = lambda One,Two: [j for j in Two if all(i in j for i in One)]\n",
    "            contains = lambda One,Two: [j for j in Two if all(re.search(i, j) is not None for i in One)]\n",
    "\n",
    "        else:\n",
    "            contains = lambda One,Two: [j for j in Two for i in One if re.search(i, j) is not None]\n",
    "    else:\n",
    "        if exclusive is True:\n",
    "            contains = lambda One,Two: [j for j in Two if all(re.search(i.lower(), j.lower()) is not None for i in One)]\n",
    "            \n",
    "        else:\n",
    "            # contains = lambda One,Two: [j for j in Two if all(i.lower() in j.lower() for i in One)]\n",
    "            contains = lambda One,Two: [j for j in Two for i in One if re.search(i.lower(), j.lower()) is not None]\n",
    "        \n",
    "    hits = contains(listOne, listTwo)\n",
    "    hits = (_unique(hits) if unique else hits)\n",
    "    return hits"
   ]
  },
  {
   "cell_type": "code",
   "execution_count": 8,
   "metadata": {},
   "outputs": [],
   "source": [
    "list1 = ['Kim', 'zoldak']\n",
    "list2 = ['kim meyers', 'kim jones', 'kimberly zoldak', 'kimberly anne']"
   ]
  },
  {
   "cell_type": "code",
   "execution_count": null,
   "metadata": {},
   "outputs": [],
   "source": [
    "list1 = ['k', 'an']\n",
    "list2 = ['kim meyers', 'kim jones', 'kimberly zoldak', 'kimberly anne', 'k zoldak']"
   ]
  },
  {
   "cell_type": "code",
   "execution_count": null,
   "metadata": {},
   "outputs": [],
   "source": []
  },
  {
   "cell_type": "markdown",
   "metadata": {},
   "source": [
    "### Lowercase names in list1 and list2\n",
    "No need to be concerned with case sensitivity in this example. "
   ]
  },
  {
   "cell_type": "code",
   "execution_count": null,
   "metadata": {},
   "outputs": [],
   "source": [
    "list1 = ['kim', 'zoldak']\n",
    "list2 = ['kim meyers', 'kim jones', 'kimberly zoldak', 'kimberly anne']"
   ]
  },
  {
   "cell_type": "code",
   "execution_count": null,
   "metadata": {},
   "outputs": [],
   "source": [
    "str_contains_A(list1, list2)  # DEFAULTS: unique=True, case=True"
   ]
  },
  {
   "cell_type": "code",
   "execution_count": null,
   "metadata": {},
   "outputs": [],
   "source": [
    "str_contains_B(list1, list2) # DEFAULTS: unique=True, case=True"
   ]
  },
  {
   "cell_type": "code",
   "execution_count": null,
   "metadata": {},
   "outputs": [],
   "source": [
    "str_contains_C(list1, list2) # DEFAULTS: unique=True, case=True, exclusive=True"
   ]
  },
  {
   "cell_type": "code",
   "execution_count": null,
   "metadata": {},
   "outputs": [],
   "source": [
    "str_contains_D(list1, list2) # DEFAULTS: unique=True, case=True, exclusive=True"
   ]
  },
  {
   "cell_type": "markdown",
   "metadata": {},
   "source": [
    "### Uppercase names in list1\n",
    "Case sensitivity matters in this example. "
   ]
  },
  {
   "cell_type": "code",
   "execution_count": null,
   "metadata": {},
   "outputs": [],
   "source": [
    "list1 = ['Kim', 'Zoldak']\n",
    "list2 = ['kim meyers', 'kim jones', 'kimberly zoldak', 'kimberly anne']"
   ]
  },
  {
   "cell_type": "markdown",
   "metadata": {},
   "source": [
    "**Version A**"
   ]
  },
  {
   "cell_type": "code",
   "execution_count": null,
   "metadata": {},
   "outputs": [],
   "source": [
    "str_contains_A(list1, list2)  # DEFAULT"
   ]
  },
  {
   "cell_type": "code",
   "execution_count": null,
   "metadata": {},
   "outputs": [],
   "source": [
    "str_contains_A(list1, list2, case=False) # CHANGE CASE SENSITIVE TO FALSE"
   ]
  },
  {
   "cell_type": "markdown",
   "metadata": {},
   "source": [
    "**Version B**"
   ]
  },
  {
   "cell_type": "code",
   "execution_count": null,
   "metadata": {},
   "outputs": [],
   "source": [
    "str_contains_B(list1, list2) # DEFAULT"
   ]
  },
  {
   "cell_type": "code",
   "execution_count": null,
   "metadata": {},
   "outputs": [],
   "source": [
    "str_contains_B(list1, list2, case=False) # CHANGE CASE SENSITIVE TO FALSE"
   ]
  },
  {
   "cell_type": "markdown",
   "metadata": {},
   "source": [
    "**Version C**"
   ]
  },
  {
   "cell_type": "code",
   "execution_count": null,
   "metadata": {},
   "outputs": [],
   "source": [
    "str_contains_C(list1, list2) # DEFAULT"
   ]
  },
  {
   "cell_type": "code",
   "execution_count": null,
   "metadata": {},
   "outputs": [],
   "source": [
    "str_contains_C(list1, list2, case=False) # CHANGE CASE SENSITIVE TO FALSE"
   ]
  },
  {
   "cell_type": "markdown",
   "metadata": {},
   "source": [
    "**Version D**"
   ]
  },
  {
   "cell_type": "code",
   "execution_count": null,
   "metadata": {},
   "outputs": [],
   "source": [
    "str_contains_D(list1, list2) # DEFAULT"
   ]
  },
  {
   "cell_type": "code",
   "execution_count": null,
   "metadata": {},
   "outputs": [],
   "source": [
    "str_contains_D(list1, list2, case=False) # CHANGE CASE SENSITIVE TO FALSE"
   ]
  },
  {
   "cell_type": "markdown",
   "metadata": {},
   "source": [
    "**Versions C and D**"
   ]
  },
  {
   "cell_type": "markdown",
   "metadata": {},
   "source": [
    "In versions C and D, we have an `exclusive` argument that can be set to either `True` or `False`. The default is `exclusive=True`, which is why we only see the result that matches both strings in list1. If we change this to `exclusive=False`, then these two will have the same functionality as versions A and B. "
   ]
  },
  {
   "cell_type": "code",
   "execution_count": null,
   "metadata": {},
   "outputs": [],
   "source": [
    "str_contains_C(list1, list2, case=False, exclusive=False)"
   ]
  },
  {
   "cell_type": "code",
   "execution_count": null,
   "metadata": {},
   "outputs": [],
   "source": [
    "str_contains_D(list1, list2, case=False, exclusive=False)"
   ]
  },
  {
   "cell_type": "markdown",
   "metadata": {},
   "source": [
    "### Uppercase names in list2\n",
    "Case sensitivity matters in this example. "
   ]
  },
  {
   "cell_type": "code",
   "execution_count": null,
   "metadata": {},
   "outputs": [],
   "source": [
    "list1 = ['kim', 'zoldak']\n",
    "list2 = ['Kim Meyers', 'Kim Jones', 'Kimberly Zoldak', 'Kimberly Anne']"
   ]
  },
  {
   "cell_type": "markdown",
   "metadata": {},
   "source": [
    "**Version A**"
   ]
  },
  {
   "cell_type": "code",
   "execution_count": null,
   "metadata": {},
   "outputs": [],
   "source": [
    "str_contains_A(list1, list2)  # DEFAULT"
   ]
  },
  {
   "cell_type": "code",
   "execution_count": null,
   "metadata": {},
   "outputs": [],
   "source": [
    "str_contains_A(list1, list2, case=False) # CHANGE CASE SENSITIVE TO FALSE"
   ]
  },
  {
   "cell_type": "markdown",
   "metadata": {},
   "source": [
    "**Version B**"
   ]
  },
  {
   "cell_type": "code",
   "execution_count": null,
   "metadata": {},
   "outputs": [],
   "source": [
    "str_contains_B(list1, list2) # DEFAULT"
   ]
  },
  {
   "cell_type": "code",
   "execution_count": null,
   "metadata": {},
   "outputs": [],
   "source": [
    "str_contains_B(list1, list2, case=False) # CHANGE CASE SENSITIVE TO FALSE"
   ]
  },
  {
   "cell_type": "markdown",
   "metadata": {},
   "source": [
    "**Version C**"
   ]
  },
  {
   "cell_type": "code",
   "execution_count": null,
   "metadata": {},
   "outputs": [],
   "source": [
    "str_contains_C(list1, list2) # DEFAULT"
   ]
  },
  {
   "cell_type": "code",
   "execution_count": null,
   "metadata": {},
   "outputs": [],
   "source": [
    "str_contains_C(list1, list2, case=False) # CHANGE CASE SENSITIVE TO FALSE"
   ]
  },
  {
   "cell_type": "markdown",
   "metadata": {},
   "source": [
    "**Version D**"
   ]
  },
  {
   "cell_type": "code",
   "execution_count": null,
   "metadata": {},
   "outputs": [],
   "source": [
    "str_contains_D(list1, list2) # DEFAULT"
   ]
  },
  {
   "cell_type": "code",
   "execution_count": null,
   "metadata": {},
   "outputs": [],
   "source": [
    "str_contains_D(list1, list2, case=False) # CHANGE CASE SENSITIVE TO FALSE"
   ]
  },
  {
   "cell_type": "markdown",
   "metadata": {},
   "source": [
    "### Testing Uniqueness\n",
    "For this one we will turn of exclusive=True for Versions C and D. This is becuase only one respone would be returned and we would like to see if numerous responses are returned, that are also unique."
   ]
  },
  {
   "cell_type": "code",
   "execution_count": null,
   "metadata": {},
   "outputs": [],
   "source": [
    "list1 = ['dog', ]\n",
    "list2 = ['Dog:Fido', 'horse:Seabiscuit', 'horse:Molly', 'cat:Oscar', \n",
    "         'horse:Bron', 'hampster:Chip', 'dog:Lucy', 'dog:bella',\n",
    "         'cat:simba', 'dog:Blue', 'dog:Pete', 'turtle:Crush',\n",
    "         'dog:bella',  'dog:Fido']"
   ]
  },
  {
   "cell_type": "markdown",
   "metadata": {},
   "source": [
    "**Version A**"
   ]
  },
  {
   "cell_type": "code",
   "execution_count": null,
   "metadata": {},
   "outputs": [],
   "source": [
    "str_contains_A(list1, list2, case=True)  # misses 'Dog:Fido'"
   ]
  },
  {
   "cell_type": "code",
   "execution_count": null,
   "metadata": {},
   "outputs": [],
   "source": [
    "str_contains_A(list1, list2, case=False)   # returns 'Dog:Fido'"
   ]
  },
  {
   "cell_type": "code",
   "execution_count": null,
   "metadata": {},
   "outputs": [],
   "source": [
    "# RETURNS TWO 'dog:bella'\n",
    "str_contains_A(list1, list2, case=True, unique=False)  "
   ]
  },
  {
   "cell_type": "markdown",
   "metadata": {},
   "source": [
    "**Version B**"
   ]
  },
  {
   "cell_type": "code",
   "execution_count": null,
   "metadata": {},
   "outputs": [],
   "source": [
    "# RETURNS TWO 'dog:bella'\n",
    "str_contains_B(list1, list2, case=False, unique=False) "
   ]
  },
  {
   "cell_type": "code",
   "execution_count": null,
   "metadata": {},
   "outputs": [],
   "source": [
    "print( str_contains_A(list1, list2, unique=False) )\n",
    "print( str_contains_B(list1, list2, unique=False) )\n",
    "print( str_contains_C(list1, list2, unique=False) )\n",
    "print( str_contains_D(list1, list2, unique=False) )"
   ]
  },
  {
   "cell_type": "code",
   "execution_count": null,
   "metadata": {},
   "outputs": [],
   "source": [
    "print( str_contains_A(list1, list2, unique=True) )\n",
    "print( str_contains_B(list1, list2, unique=True) )\n",
    "print( str_contains_C(list1, list2, unique=True) )\n",
    "print( str_contains_D(list1, list2, unique=True) )"
   ]
  },
  {
   "cell_type": "markdown",
   "metadata": {},
   "source": [
    "In this example, it doesn't matter that we didn't change `exclusive=False` becuase we only have one word we are searching for; `dog`. But just to prove it:"
   ]
  },
  {
   "cell_type": "code",
   "execution_count": null,
   "metadata": {},
   "outputs": [],
   "source": [
    "print( str_contains_A(list1, list2, unique=True) )\n",
    "print( str_contains_B(list1, list2, unique=True) )\n",
    "print( str_contains_C(list1, list2, unique=True, exclusive=False) )\n",
    "print( str_contains_D(list1, list2, unique=True, exclusive=False) )"
   ]
  },
  {
   "cell_type": "code",
   "execution_count": null,
   "metadata": {},
   "outputs": [],
   "source": [
    "print( str_contains_A(list1, list2, unique=True) )\n",
    "print( str_contains_B(list1, list2, unique=True) )\n",
    "print( str_contains_C(list1, list2, unique=True, exclusive=True) )\n",
    "print( str_contains_D(list1, list2, unique=True, exclusive=True) )"
   ]
  },
  {
   "cell_type": "code",
   "execution_count": null,
   "metadata": {},
   "outputs": [],
   "source": []
  },
  {
   "cell_type": "code",
   "execution_count": null,
   "metadata": {},
   "outputs": [],
   "source": []
  },
  {
   "cell_type": "code",
   "execution_count": null,
   "metadata": {},
   "outputs": [],
   "source": []
  },
  {
   "cell_type": "code",
   "execution_count": null,
   "metadata": {},
   "outputs": [],
   "source": []
  },
  {
   "cell_type": "markdown",
   "metadata": {},
   "source": [
    "---"
   ]
  },
  {
   "cell_type": "code",
   "execution_count": null,
   "metadata": {},
   "outputs": [],
   "source": [
    "print( str_contains_A(list1, list2, case=False, unique=True) )\n",
    "print( str_contains_B(list1, list2, case=False, unique=True) )\n",
    "print( str_contains_C(list1, list2, case=False, unique=True) )\n",
    "print( str_contains_D(list1, list2, case=False, unique=True) )"
   ]
  },
  {
   "cell_type": "markdown",
   "metadata": {},
   "source": [
    "There are two 'dog:bella' in this list, and this only returned one of them. So, the unique argument worked as desired. \n",
    "\n",
    "However, further inspection reveals that it did not catch 'Dog:Fido' and 'dog:Fido'. \n",
    "The function I designed applies the case sensitivity ONLY when it is checking for matches between two strings. If there is a match, the string from list2 is then appended in the EXACT form that it exists within list2, not a lowercase or uppercase version of it. Once the list of matches is formed, the unique function is then passed this list. Naturally, it will miss duplicates with different cases. In most instances, this is desired. Python is case sensitive, meaning variable `name` and varible `Name` are acutually two different Python objects. So we would want both returned. If this is not desired by the user, then they can handle this outside of the function. See Below. "
   ]
  },
  {
   "cell_type": "code",
   "execution_count": null,
   "metadata": {},
   "outputs": [],
   "source": [
    "_unique( [i.lower() for i in str_contains_A(list1, list2, case=False, unique=True)] )"
   ]
  },
  {
   "cell_type": "code",
   "execution_count": null,
   "metadata": {},
   "outputs": [],
   "source": [
    "# OR \n",
    "import numpy as np\n",
    "\n",
    "np.unique( [i.lower() for i in str_contains_A(list1, list2, case=False, unique=True)] )"
   ]
  },
  {
   "cell_type": "markdown",
   "metadata": {},
   "source": [
    "---"
   ]
  },
  {
   "cell_type": "code",
   "execution_count": null,
   "metadata": {},
   "outputs": [],
   "source": [
    "str_contains_B(list1, list2, case=True)  # misses 'Dog:Fido'"
   ]
  },
  {
   "cell_type": "code",
   "execution_count": null,
   "metadata": {},
   "outputs": [],
   "source": [
    "str_contains_B(list1, list2, case=True)  # misses 'Dog:Fido'"
   ]
  }
 ],
 "metadata": {
  "kernelspec": {
   "display_name": "Python 3",
   "language": "python",
   "name": "python3"
  },
  "language_info": {
   "codemirror_mode": {
    "name": "ipython",
    "version": 3
   },
   "file_extension": ".py",
   "mimetype": "text/x-python",
   "name": "python",
   "nbconvert_exporter": "python",
   "pygments_lexer": "ipython3",
   "version": "3.7.0"
  }
 },
 "nbformat": 4,
 "nbformat_minor": 2
}
