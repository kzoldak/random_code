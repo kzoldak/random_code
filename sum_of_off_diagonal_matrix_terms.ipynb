{
 "cells": [
  {
   "cell_type": "markdown",
   "metadata": {},
   "source": [
    "<font size=5>\n",
    "Finding the sum of the off diagonal terms of a matrix. \n",
    "</font>"
   ]
  },
  {
   "cell_type": "code",
   "execution_count": 1,
   "metadata": {},
   "outputs": [],
   "source": [
    "import numpy as np"
   ]
  },
  {
   "cell_type": "code",
   "execution_count": 2,
   "metadata": {},
   "outputs": [],
   "source": [
    "A = np.asmatrix( [[1,2,3], [4,5,6], [7,8,9]] )\n",
    "B = np.asmatrix( [[1,2,3,4], [5,6,7,8], [9,10,11,12], [13,14,15,16]] )"
   ]
  },
  {
   "cell_type": "markdown",
   "metadata": {},
   "source": [
    "Before starting, we'd like to know the solutions to both matrices, so we know if we are correct."
   ]
  },
  {
   "cell_type": "code",
   "execution_count": 3,
   "metadata": {},
   "outputs": [
    {
     "data": {
      "text/plain": [
       "(30, 102)"
      ]
     },
     "execution_count": 3,
     "metadata": {},
     "output_type": "execute_result"
    }
   ],
   "source": [
    "np.sum( [2,3,4,6,7,8] ), np.sum( [2,3,4,5,7,8,9,10,12,13,14,15] )"
   ]
  },
  {
   "cell_type": "code",
   "execution_count": 4,
   "metadata": {},
   "outputs": [
    {
     "data": {
      "text/plain": [
       "(30, 102)"
      ]
     },
     "execution_count": 4,
     "metadata": {},
     "output_type": "execute_result"
    }
   ],
   "source": [
    "from functools import reduce\n",
    "reduce(lambda x,y: x+y, [2,3,4,6,7,8]), reduce(lambda x,y: x+y, [2,3,4,5,7,8,9,10,12,13,14,15])"
   ]
  },
  {
   "cell_type": "markdown",
   "metadata": {},
   "source": [
    "Answers are:\n",
    "    * 30 for matrix A\n",
    "    * 102 for matrix B"
   ]
  },
  {
   "cell_type": "markdown",
   "metadata": {},
   "source": [
    "```\n",
    "\n",
    "```\n",
    "__My first attempt at it was this:__"
   ]
  },
  {
   "cell_type": "code",
   "execution_count": 5,
   "metadata": {},
   "outputs": [],
   "source": [
    "def sum_of_off_diags(mat):\n",
    "    off_diags = []\n",
    "    for i,row in enumerate(mat):\n",
    "        row = row.tolist()[0]\n",
    "        for j,element in enumerate(row):\n",
    "            if i==j:\n",
    "                pass\n",
    "            else:\n",
    "                off_diags.append(element)\n",
    "    return np.sum(off_diags)"
   ]
  },
  {
   "cell_type": "code",
   "execution_count": 6,
   "metadata": {},
   "outputs": [
    {
     "data": {
      "text/plain": [
       "30"
      ]
     },
     "execution_count": 6,
     "metadata": {},
     "output_type": "execute_result"
    }
   ],
   "source": [
    "sum_of_off_diags(A)"
   ]
  },
  {
   "cell_type": "code",
   "execution_count": 7,
   "metadata": {},
   "outputs": [
    {
     "data": {
      "text/plain": [
       "102"
      ]
     },
     "execution_count": 7,
     "metadata": {},
     "output_type": "execute_result"
    }
   ],
   "source": [
    "sum_of_off_diags(B)"
   ]
  },
  {
   "cell_type": "markdown",
   "metadata": {},
   "source": [
    "Although this works, it's not the quickest way. However, it tends to be my instinct to first attack a problem using for loops and to use as few of the imported modules as possible. In this one, I did not even use the `numpy` module."
   ]
  },
  {
   "cell_type": "markdown",
   "metadata": {},
   "source": [
    "```\n",
    "\n",
    "```\n",
    "__My second attempt.__\n",
    "\n",
    "I admit, this SHOULD have been what dawned on me first. I'm already using the `numpy` package to set the matrix. Why not use `numpy` tools to solve this?\n",
    "\n",
    "\n",
    "I calculate the sum of the entire matrices terms and then subtract the sum of the diagonal terms from it. "
   ]
  },
  {
   "cell_type": "code",
   "execution_count": 8,
   "metadata": {},
   "outputs": [
    {
     "data": {
      "text/plain": [
       "array([1, 5, 9])"
      ]
     },
     "execution_count": 8,
     "metadata": {},
     "output_type": "execute_result"
    }
   ],
   "source": [
    "np.diag(A)  # this is more for arrays, but it still works."
   ]
  },
  {
   "cell_type": "code",
   "execution_count": 9,
   "metadata": {},
   "outputs": [
    {
     "data": {
      "text/plain": [
       "array([1, 5, 9])"
      ]
     },
     "execution_count": 9,
     "metadata": {},
     "output_type": "execute_result"
    }
   ],
   "source": [
    "np.diagonal(A) # for matrices"
   ]
  },
  {
   "cell_type": "code",
   "execution_count": 10,
   "metadata": {},
   "outputs": [
    {
     "data": {
      "text/plain": [
       "matrix([[1, 5, 9]])"
      ]
     },
     "execution_count": 10,
     "metadata": {},
     "output_type": "execute_result"
    }
   ],
   "source": [
    "A.diagonal() # for matrices"
   ]
  },
  {
   "cell_type": "code",
   "execution_count": 11,
   "metadata": {},
   "outputs": [
    {
     "data": {
      "text/plain": [
       "30"
      ]
     },
     "execution_count": 11,
     "metadata": {},
     "output_type": "execute_result"
    }
   ],
   "source": [
    "# SUM THE VALUES OF THE MATRIX AND THEN SUBTRACT OFF THE SUM OF THE DIAGONAL TERMS. \n",
    "np.sum(A) - np.sum(A.diagonal())"
   ]
  },
  {
   "cell_type": "code",
   "execution_count": 12,
   "metadata": {},
   "outputs": [
    {
     "data": {
      "text/plain": [
       "102"
      ]
     },
     "execution_count": 12,
     "metadata": {},
     "output_type": "execute_result"
    }
   ],
   "source": [
    "# SUM THE VALUES OF THE MATRIX AND THEN SUBTRACT OFF THE SUM OF THE DIAGONAL TERMS. \n",
    "np.sum(B) - np.sum(B.diagonal())"
   ]
  },
  {
   "cell_type": "markdown",
   "metadata": {},
   "source": [
    "Oh yeah! This sparked a thought in my mind... the Trace of a Matrix is the sum of its diagonal terms!! I can replace `np.sum(A.diagonal())` with `np.trace(A)` or `A.trace()`."
   ]
  },
  {
   "cell_type": "code",
   "execution_count": 13,
   "metadata": {},
   "outputs": [
    {
     "data": {
      "text/plain": [
       "30"
      ]
     },
     "execution_count": 13,
     "metadata": {},
     "output_type": "execute_result"
    }
   ],
   "source": [
    "# trace is the sum of the diag elements. \n",
    "np.sum(A) - np.trace(A)"
   ]
  },
  {
   "cell_type": "code",
   "execution_count": 14,
   "metadata": {},
   "outputs": [
    {
     "data": {
      "text/plain": [
       "matrix([[30]])"
      ]
     },
     "execution_count": 14,
     "metadata": {},
     "output_type": "execute_result"
    }
   ],
   "source": [
    "A.sum() - A.trace()"
   ]
  },
  {
   "cell_type": "code",
   "execution_count": 15,
   "metadata": {},
   "outputs": [
    {
     "data": {
      "text/plain": [
       "102"
      ]
     },
     "execution_count": 15,
     "metadata": {},
     "output_type": "execute_result"
    }
   ],
   "source": [
    "# trace is the sum of the diag elements. \n",
    "np.sum(B) - np.trace(B)"
   ]
  },
  {
   "cell_type": "code",
   "execution_count": 16,
   "metadata": {},
   "outputs": [
    {
     "data": {
      "text/plain": [
       "matrix([[102]])"
      ]
     },
     "execution_count": 16,
     "metadata": {},
     "output_type": "execute_result"
    }
   ],
   "source": [
    "B.sum() - B.trace()"
   ]
  },
  {
   "cell_type": "code",
   "execution_count": 17,
   "metadata": {},
   "outputs": [
    {
     "data": {
      "text/plain": [
       "(30, 102)"
      ]
     },
     "execution_count": 17,
     "metadata": {},
     "output_type": "execute_result"
    }
   ],
   "source": [
    "# SET IT UP AS A FUNCTION.\n",
    "sum_Off_Diags = lambda mat: np.sum(mat) - np.trace(mat)\n",
    "\n",
    "sum_Off_Diags(A), sum_Off_Diags(B)"
   ]
  },
  {
   "cell_type": "markdown",
   "metadata": {},
   "source": [
    "```\n",
    "\n",
    "\n",
    "```\n",
    "\n",
    "__Other ways to solve this problem?__\n",
    "\n",
    "1. Replace the diagonal terms with 0's and take the sum of the matrix.\n",
    "2. Delete the diagonal terms and then take the sum of the matrix. \n",
    "\n",
    "<br>\n",
    "\n",
    "__*!!! WARNING !!!:*__<br>\n",
    "__*If you are going to alter a numpy matrix or array, such as replacing or deleting its values, make a copy of it first and then make those alterations on that copy. This is a good habit to get into, even when the function doesn't alter the original matrix or array, but creates a temporary one (i.e, is not kept by Python unless you instantiate it to a new variable).*__\n",
    "\n"
   ]
  },
  {
   "cell_type": "code",
   "execution_count": 18,
   "metadata": {},
   "outputs": [],
   "source": [
    "# REPLACE DIAGONAL TERMS WITH 0'S AND TAKE THE SUM.\n",
    "def sum_of_off_diags(mat):\n",
    "    '''\n",
    "    NOTE: must use np.sum(mat). \n",
    "    sum(mat) won't work.\n",
    "    \n",
    "    '''\n",
    "    # MUST HAVE THIS OR YOU WILL ALTER THE ORIGINAL MATRIX PASSED TO THE FUNCTION!!\n",
    "    mat = mat.copy() \n",
    "    \n",
    "    n = len(mat)\n",
    "    for i in range(0, n):\n",
    "        mat[i,i] = 0\n",
    "    return np.sum(mat)\n",
    "    "
   ]
  },
  {
   "cell_type": "code",
   "execution_count": 19,
   "metadata": {},
   "outputs": [
    {
     "data": {
      "text/plain": [
       "30"
      ]
     },
     "execution_count": 19,
     "metadata": {},
     "output_type": "execute_result"
    }
   ],
   "source": [
    "sum_of_off_diags(A)"
   ]
  },
  {
   "cell_type": "code",
   "execution_count": 20,
   "metadata": {},
   "outputs": [
    {
     "data": {
      "text/plain": [
       "102"
      ]
     },
     "execution_count": 20,
     "metadata": {},
     "output_type": "execute_result"
    }
   ],
   "source": [
    "sum_of_off_diags(B)"
   ]
  },
  {
   "cell_type": "code",
   "execution_count": 21,
   "metadata": {},
   "outputs": [],
   "source": [
    "# DELETE DIAGONAL TERMS AND TAKE THE SUM.\n",
    "def sum_of_off_diags(mat):\n",
    "    '''\n",
    "    NOTE: must use np.sum(mat). \n",
    "    sum(mat) won't work.\n",
    "    \n",
    "    DELETE THE DIAGONAL TERMS FROM THE MATRIX.\n",
    "    DOING IT THIS WAY RETURNS AN ARRAY OF THE OFF-DIAG TERMS.\n",
    "    SIMPLY TAKE THE SUM THEN.\n",
    "    \n",
    "    '''\n",
    "    # MUST HAVE THIS OR YOU WILL ALTER THE ORIGINAL MATRIX PASSED TO THE FUNCTION!!\n",
    "    mat = mat.copy() \n",
    "    \n",
    "    n = len(mat)\n",
    "    to_delete = np.arange(0, (n**2)+1, n+1)\n",
    "    # using np.delete doesn't change the matrix. Must instantiate to a new variable \n",
    "    # to save the array with deleted items. BUT, we don't need to, just need a sum.\n",
    "    return np.sum(np.delete(mat, to_delete) )\n",
    "    "
   ]
  },
  {
   "cell_type": "code",
   "execution_count": 22,
   "metadata": {},
   "outputs": [
    {
     "data": {
      "text/plain": [
       "30"
      ]
     },
     "execution_count": 22,
     "metadata": {},
     "output_type": "execute_result"
    }
   ],
   "source": [
    "sum_of_off_diags(A)"
   ]
  },
  {
   "cell_type": "code",
   "execution_count": 23,
   "metadata": {},
   "outputs": [
    {
     "data": {
      "text/plain": [
       "102"
      ]
     },
     "execution_count": 23,
     "metadata": {},
     "output_type": "execute_result"
    }
   ],
   "source": [
    "sum_of_off_diags(B)"
   ]
  }
 ],
 "metadata": {
  "kernelspec": {
   "display_name": "Python 3",
   "language": "python",
   "name": "python3"
  },
  "language_info": {
   "codemirror_mode": {
    "name": "ipython",
    "version": 3
   },
   "file_extension": ".py",
   "mimetype": "text/x-python",
   "name": "python",
   "nbconvert_exporter": "python",
   "pygments_lexer": "ipython3",
   "version": "3.7.0"
  }
 },
 "nbformat": 4,
 "nbformat_minor": 2
}
